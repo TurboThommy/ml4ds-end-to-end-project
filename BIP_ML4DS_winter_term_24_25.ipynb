{
 "cells": [
  {
   "cell_type": "markdown",
   "metadata": {
    "id": "aL5VxhUgN_Cd"
   },
   "source": [
    "# Ch. 1 - Setup"
   ]
  },
  {
   "cell_type": "markdown",
   "metadata": {
    "id": "0EQAtMAjODvX"
   },
   "source": [
    "First we import the required dependencies."
   ]
  },
  {
   "cell_type": "code",
   "execution_count": 205,
   "metadata": {
    "id": "5tWJbNzzN1FH"
   },
   "outputs": [],
   "source": [
    "# Python ≥3.5 is required\n",
    "import sys\n",
    "assert sys.version_info >= (3, 5)\n",
    "\n",
    "# Scikit-Learn ≥0.20 is required\n",
    "import sklearn\n",
    "assert sklearn.__version__ >= \"0.20\"\n",
    "\n",
    "# Common imports\n",
    "import numpy as np\n",
    "import os\n",
    "import pandas as pd\n",
    "from pandas.plotting import scatter_matrix\n",
    "import urllib.request\n",
    "\n",
    "# To plot pretty figures\n",
    "%matplotlib inline\n",
    "import matplotlib as mpl\n",
    "import matplotlib.pyplot as plt\n",
    "\n",
    "# seaborn\n",
    "import seaborn as sns"
   ]
  },
  {
   "cell_type": "markdown",
   "metadata": {
    "id": "_xRUj0c3Qwg8"
   },
   "source": [
    "Then we load the data provided on Aulis from github to our project directory."
   ]
  },
  {
   "cell_type": "code",
   "execution_count": 206,
   "metadata": {
    "id": "fobpuXAOQ1IN"
   },
   "outputs": [],
   "source": [
    "DATASETS_URL = \"https://github.com/TurboThommy/ml4ds-end-to-end-project/blob/main/data/\"\n",
    "DATASET_DIR = \"datasets\"\n",
    "\n",
    "# File names\n",
    "TRAINING_DATA_FILENAME = \"Vehicles_export_prices_scaled_train_eng.xlsx\"\n",
    "TEST_DATA_FILENAME = \"Vehicles_export_prices_scaled_stud_test_eng.xlsx\"\n",
    "\n",
    "def fetch_file_from_url(src_url, dest_path, file_name):\n",
    "    if not os.path.isdir(dest_path):\n",
    "        os.makedirs(dest_path)\n",
    "    file_url = src_url + file_name + \"?raw=true\"\n",
    "    file_path = os.path.join(dest_path, file_name)\n",
    "    urllib.request.urlretrieve(file_url, file_path)\n",
    "\n",
    "fetch_file_from_url(DATASETS_URL, DATASET_DIR, TRAINING_DATA_FILENAME)"
   ]
  },
  {
   "cell_type": "markdown",
   "metadata": {},
   "source": [
    "Load the training data set and print the first few rows."
   ]
  },
  {
   "cell_type": "code",
   "execution_count": 207,
   "metadata": {
    "colab": {
     "base_uri": "https://localhost:8080/",
     "height": 322
    },
    "id": "rsuOI3BuaqSn",
    "outputId": "94df3b8b-8753-4ceb-9ba2-04f1e603019f"
   },
   "outputs": [],
   "source": [
    "TRAINING_DATA_PATH = os.path.join(\"datasets\", TRAINING_DATA_FILENAME)\n",
    "\n",
    "def load_data(data_path):\n",
    "    return pd.read_excel(data_path)\n",
    "\n",
    "training_data_df = load_data(TRAINING_DATA_PATH)\n",
    "training_data_df.head()"
   ]
  },
  {
   "cell_type": "markdown",
   "metadata": {},
   "source": [
    "Print information about the loaded data frame."
   ]
  },
  {
   "cell_type": "code",
   "execution_count": 208,
   "metadata": {},
   "outputs": [],
   "source": [
    "training_data_df.info(verbose=True)"
   ]
  },
  {
   "cell_type": "markdown",
   "metadata": {},
   "source": [
    "Sort all columns in the data frame alphabetically and print them with their corresponding data types."
   ]
  },
  {
   "cell_type": "code",
   "execution_count": 209,
   "metadata": {},
   "outputs": [],
   "source": [
    "columns = []\n",
    "for col in training_data_df.columns:\n",
    "    columns.append([col.title(), training_data_df[col.title().upper()].dtype])\n",
    "columns.sort(key=lambda x: x[0])\n",
    "columns"
   ]
  },
  {
   "cell_type": "markdown",
   "metadata": {},
   "source": [
    "Create a correlation matrix for the training data."
   ]
  },
  {
   "cell_type": "code",
   "execution_count": 210,
   "metadata": {},
   "outputs": [],
   "source": [
    "corr_matrix = training_data_df.select_dtypes(include=[\"number\"]).corr()\n",
    "corr_matrix[\"LAID_UP_TIME\"].sort_values(ascending=False)"
   ]
  },
  {
   "cell_type": "code",
   "execution_count": 211,
   "metadata": {},
   "outputs": [],
   "source": [
    "attributes = [\"LAID_UP_TIME\", \"SCALED_INVENTURAL_VALUE\"]\n",
    "scatter_matrix(training_data_df[attributes])\n",
    "plt.show()"
   ]
  },
  {
   "cell_type": "code",
   "execution_count": 212,
   "metadata": {},
   "outputs": [],
   "source": [
    "# attr = training_data_df.select_dtypes(include=[\"number\"])\n",
    "# attr.head()\n",
    "# scatter_matrix(attr)\n",
    "# plt.show()\n",
    "# filtered_df = training_data_df.loc[training_data_df['AT_LOCATION_SINCE'] > 1000000]\n",
    "# filtered_df.head()\n",
    "\n",
    "import sklearn.model_selection\n",
    "\n",
    "\n",
    "filterd_df, _ = sklearn.model_selection.train_test_split(training_data_df, train_size=0.1, random_state=42)\n",
    "\n",
    "attr = [\n",
    "    \"LAID_UP_TIME\",\n",
    "    \"SCALED_INVENTURAL_VALUE\",\n",
    "    \"AT_LOCATION_SINCE\",\n",
    "    \"VEHICLE_MODEL_ID\",\n",
    "    \"NUMBER_AXLE\",\n",
    "    \"IS_USED_CAR\",\n",
    "    \"CURB_WEIGHT\",\n",
    "    \"NUMBER_SEATS\",\n",
    "    \"CONSTRUCTION_MONTH\",\n",
    "    \"NUMBER_DOORS\",\n",
    "    \"YEAR_CONSTRUCTION\",\n",
    "    \"HORSEPOWER\",\n",
    "    \"OPTICAL_CONDITION\",\n",
    "    \"KW\",\n",
    "    \"OPERATING_HOURS\",\n",
    "    \"OPERATION_HOURS_SALE\",\n",
    "    \"OPERATING_HOURS_SALES\",\n",
    "    \"SCALED_CURRENT_VALUE\",\n",
    "    \"SCALED_TOTAL_SALE_PRICE\",\n",
    "    \"SCALED_TOTAL_SALES_PRICE_BASIS\",\n",
    "    \"SCALED_GUIDE_PRICE\",\n",
    "    \"NUMBER_OWNERS\",\n",
    "    \"CCM\",\n",
    "    \"MAX_TRAILOR_LOAD\",\n",
    "    \"MILEAGE\",\n",
    "    \"PERMITTED_TOTAL_WEIGHT\",\n",
    "    \"NUMBER_ENGINE_CYLINDER\",\n",
    "    \"MILAGE_SALE\",\n",
    "    \"MILAGE_SALES\",\n",
    "    \"LEASING_MILAGE\",\n",
    "    \"PURCHASE_MILAGE\",\n",
    "    \"COMPANY\",\n",
    "    \"SCALED_REPORT_VALUE\",\n",
    "    # \"MILAGE_IN_FIELD\",\n",
    "    # \"CERTIFICATE_TYPE_DATE\",\n",
    "    # \"FRONT_TIRES_CONDITION\",\n",
    "    # \"REAR_TIRES_CONDITION\",\n",
    "    # \"REPAIR_RKZ\",\n",
    "    # \"TECHNICAL_CONDITION\",\n",
    "    # # \"PAINT_TYPE\", => only nulls\n",
    "    # \"PURCHASE_OPERATION_HOURS\",\n",
    "    # \"SCALED_VALUATION_PRICE\"\n",
    "]\n",
    "scatter_matrix(filterd_df[attr], figsize=(100, 100))\n",
    "plt.show()"
   ]
  },
  {
   "cell_type": "code",
   "execution_count": 213,
   "metadata": {},
   "outputs": [],
   "source": [
    "training_data_df[\"SCALED_INVENTURAL_VALUE\"].describe()"
   ]
  },
  {
   "cell_type": "code",
   "execution_count": 214,
   "metadata": {},
   "outputs": [],
   "source": [
    "print(len(training_data_df[\"MODEL_CODE\"].unique()))\n",
    "print(training_data_df[\"COLOR_CODE\"].isnull().sum())"
   ]
  },
  {
   "cell_type": "code",
   "execution_count": 215,
   "metadata": {},
   "outputs": [],
   "source": [
    "corr_matrix = training_data_df.select_dtypes(include=[\"number\"]).corr(method=\"pearson\")\n",
    "plt.figure(figsize=(30, 30))\n",
    "sns.heatmap(corr_matrix, annot=True, cmap=\"YlGnBu\", fmt=\".2f\")\n",
    "plt.title(\"Correlation Matrix\")\n",
    "plt.show()"
   ]
  },
  {
   "cell_type": "markdown",
   "metadata": {},
   "source": [
    "## Prepare Data"
   ]
  },
  {
   "cell_type": "markdown",
   "metadata": {},
   "source": [
    "### Keep columns of interest"
   ]
  },
  {
   "cell_type": "code",
   "execution_count": 216,
   "metadata": {},
   "outputs": [],
   "source": [
    "def can_be_mapped(src: str, dest: str) -> bool:\n",
    "    uni_map = list(training_data_df.groupby(src)[dest].nunique())\n",
    "    return max(uni_map) == 1\n",
    "\n",
    "def can_be_mapped_bidir(a: str, b: str) -> bool:\n",
    "    return can_be_mapped(a, b) and can_be_mapped(b, a)\n",
    "\n",
    "def count_na(col: str, df: pd.DataFrame) -> int:\n",
    "    return df[col].isna().sum()\n",
    "\n",
    "# print(count_na(\"COLOR_CODE\", training_data_df))\n",
    "# print(can_be_mapped(\"CUSTOMER_SALE_GROUP_NAME\", \"CUSTOMER_SALE_GROUP2_NAME\"))\n",
    "# print(training_data_df[\"COLOR_CODE\"].nunique())\n",
    "\n",
    "def print_stats(col: str) -> None:\n",
    "    print(f'NA: {count_na(col, training_data_df)}')\n",
    "    print(f'Unique: {training_data_df[col].nunique()}')\n",
    "    print(f'Top Cats:\\n{training_data_df[col].value_counts().head(10)}')\n",
    "    plt.hist(training_data_df[col].value_counts(), bins=50)\n",
    "\n",
    "print_stats(\"CUSTOMER_SALE_GROUP2_NAME\")"
   ]
  },
  {
   "cell_type": "code",
   "execution_count": 217,
   "metadata": {},
   "outputs": [],
   "source": [
    "columns_of_interest = [\n",
    "    \"RPAKREP_VEHICLE_HKEY\",\n",
    "    \"COMPANY\",\n",
    "    \"OFFICE\",\n",
    "    # \"OFFICE_MAIN_BRAND\", # could be used for an additional feature (comparison to MANUFACTURER_SHORT)\n",
    "    # \"CHASSIS_NUMBER\", # irrelevant as it is a unique identifier for the vehicle\n",
    "    \"MANUFACTURER_SHORT\",\n",
    "    # \"MANUFACTURER\", # contains more null values then MANUFACTURER_SHORT\n",
    "    \"VEHICLE_GROUP\",\n",
    "    # \"VEHICLE_TYPE\", # contains too many unique entries (>13,700)\n",
    "    # \"MODEL_CODE\", # contains many null values and too many unique ones\n",
    "    # \"VARIANT\", # mostly null values\n",
    "    \"MILEAGE\",\n",
    "    # \"OPERATING_HOURS\", # contains just 6 unique values, mostly 0s\n",
    "    # \"MILAGE_IN_FIELD\", # contains just 1s and nulls, mostly 1s\n",
    "    \"MILAGE_SALES\", # the difference between MILEAGE and MILAGE_SALES might be more relevant\n",
    "    # \"OPERATING_HOURS_SALES\", # contains just 5 unique values, mostly 0s\n",
    "    # \"RIM_KEY\", # contains mostly nulls\n",
    "    # \"COLOR_CODE\", # contains only 30% not nulls\n",
    "    # \"COLOR_CODE_NAME\", # contains mostly 'Nicht definiert'\n",
    "    \"COLOR\",\n",
    "    # \"COLOR_TYPE\", # contains mostly 'N'\n",
    "    # \"UPHOLSTERY_CODE\", # contains only 30% not nulls\n",
    "    \"UPHOLSTERY\",\n",
    "    # \"UPHOLSTERY_CODE_ALT\", # contains mostly 'N'\n",
    "    # \"CERTIFICATE_TYPE\", # mostly nulls\n",
    "    # \"CERTIFICATE_TYPE_DATE\", # mostly 0s\n",
    "    # \"FACTORY_NUMBER\", # mostly nulls\n",
    "    # \"ENGINE_ID\", # many nulls, more like an id\n",
    "    \"ENGINE_TYPE\",\n",
    "    # \"ENGINE_ID_ALT\", # 60% nulls\n",
    "    # \"TRANSMISSION\", # 80% nulls\n",
    "    \"TRANSMISSION_TYPE\",\n",
    "    # \"TRANSMISSION_ID\", # 80% nulls\n",
    "    # \"TRANSMISSION_SHORT\", # mostly mappable to TRANSMISSION_NAME\n",
    "    \"TRANSMISSION_NAME\",\n",
    "    # \"RIMS\", # mostly nulls\n",
    "    # \"FRONT_TIRES\", # mostly nulls\n",
    "    # \"FRONT_TIRES_CONDITION\", # mostly 0.00\n",
    "    # \"REAR_TIRES\", # mostly nulls\n",
    "    # \"REAR_TIRES_CONDITION\", # mostly 0.00\n",
    "    \"NUMBER_DOORS\",\n",
    "    \"NUMBER_SEATS\",\n",
    "    # \"PERMITTED_TOTAL_WEIGHT\", # 85% 0s\n",
    "    # \"MAX_TRAILOR_LOAD\", # 95% 0s\n",
    "    \"CURB_WEIGHT\",\n",
    "    \"YEAR_CONSTRUCTION\",\n",
    "    # \"CONSTRUCTION_MONTH\", # might not be relevant\n",
    "    # \"NUMBER_AXLE\", # mostly 0s\n",
    "    \"NUMBER_ENGINE_CYLINDER\",\n",
    "    # \"REPAIR_RKZ\", # only 0s and nulls\n",
    "    # \"OPTICAL_CONDITION\", # only 0s and nulls\n",
    "    # \"TECHNICAL_CONDITION\", # only 0s and nulls\n",
    "    \"ACCIDENT_VEHICLE\",\n",
    "    # \"COMMISSION_NUMBER\", # too many uniques\n",
    "    \"HORSEPOWER\",\n",
    "    # \"KW\", # horsepower egould be enough\n",
    "    \"CCM\",\n",
    "    \"NUMBER_OWNERS\",\n",
    "    # \"IS_USED_CAR\", # can be mapped from NUMBER_OWNERS\n",
    "    # \"LEASING_CONTRACT_DATE\", # mostly nulls\n",
    "    # \"LEASING_START\", # mostly nulls\n",
    "    # \"LEASING_END\", # mostly nulls\n",
    "    # \"LEASING_MILAGE\", # mostly 0s\n",
    "    # \"PAINT_TYPE\", # only nulls\n",
    "    # \"FINANCING_TYPE\", # FINANCING_TYPE_NAME is already enough\n",
    "    \"FINANCING_TYPE_NAME\",\n",
    "    # \"KAT_VEHICLE\", # one class is overrepresented\n",
    "    # \"FUEL_TYPE\", # FUEL_TYPE_NAME is already enough\n",
    "    \"FUEL_TYPE_NAME\",\n",
    "    # \"DRIVE_TYPE\", # DRIVE_TYPE_NAME is already enough\n",
    "    \"DRIVE_TYPE_NAME\",\n",
    "    # \"VEHICLE_MODEL_ID\", # VEHICLE_MODEL_ID_NAME is already enough\n",
    "    \"VEHICLE_MODEL_ID_NAME\",\n",
    "    # \"COMMISSION_TYPE\", # COMMISSION_TYPE_NAME is already enough\n",
    "    \"COMMISSION_TYPE_NAME\",\n",
    "    # \"DEMONSTRATION_STATUS\", # mostly nulls\n",
    "    \"PURCHASE_DATE\",\n",
    "    # \"PURCHASE_BOOKING_DATE\", # not relevant due to PURCHASE_DATE\n",
    "    # \"PURCHASE_MILAGE\", # the difference between PURCHASE_MILAGE and MILAGE_SALES might be more relevant\n",
    "    # \"PURCHASE_OPERATION_HOURS\", # only 0s and nulls\n",
    "    # \"PRICE_LIST\", # mostly nulls\n",
    "    # \"DAY_OF_REGISTRATION\", # mostly nulls and 'N'\n",
    "    # \"AT_LOCATION_SINCE\", # mostly 0s\n",
    "    \"LAID_UP_TIME\",\n",
    "    # \"SOLD_CUSTOMER_ID\", # too many different classes\n",
    "    # \"SOLD_INVOICE_COSTUMER_ID\", # too many different classes\n",
    "    # \"MILAGE_SALE\", # mostly identical to MILAGE_SALES\n",
    "    # \"OPERATION_HOURS_SALE\", mostly 0s\n",
    "    # \"SOLD_INVOICE_COSTUMER_ID2\", # too many different classes\n",
    "    \"CUSTOMER_TYPE\",\n",
    "    # \"CUSTOMER_GROUP\", # CUSTOMER_SALE_GROUP2_NAME is already enough\n",
    "    # \"CUSTOMER_GROUP_NAME\", # CUSTOMER_SALE_GROUP2_NAME is already enough\n",
    "    # \"CUSTOMER_FEATURE\", # CUSTOMER_SALE_GROUP2_NAME is already enough\n",
    "    # \"CUSTOMER_FEATURE_NAME\", # CUSTOMER_SALE_GROUP2_NAME is already enough\n",
    "    # \"SALE_CUSTOMER_ID2\", # too many different classes\n",
    "    # \"CUSTOMER_SALE_GROUP\", # CUSTOMER_SALE_GROUP2_NAME is already enough\n",
    "    # \"CUSTOMER_SALE_GROUP_NAME\", # CUSTOMER_SALE_GROUP2_NAME is already enough\n",
    "    # \"CUSTOMER_SALE_GROUP2\", # CUSTOMER_SALE_GROUP2_NAME is already enough\n",
    "    \"CUSTOMER_SALE_GROUP2_NAME\",\n",
    "    \"SCALED_CURRENT_VALUE\",\n",
    "    \"SCALED_INVENTURAL_VALUE\",\n",
    "    \"SCALED_REPORT_VALUE\",\n",
    "    # \"SCALED_VALUATION_PRICE\", # only contains 0.00\n",
    "    \"SCALED_GUIDE_PRICE\",\n",
    "    \"SCALED_TOTAL_SALES_PRICE_BASIS\",\n",
    "    \"SCALED_TOTAL_SALE_PRICE\"\n",
    "]\n",
    "\n",
    "training_data_prepared_df = training_data_df[columns_of_interest].copy()\n",
    "training_data_prepared_df.head()"
   ]
  },
  {
   "cell_type": "markdown",
   "metadata": {},
   "source": [
    "### Convert dtypes"
   ]
  },
  {
   "cell_type": "code",
   "execution_count": 218,
   "metadata": {},
   "outputs": [],
   "source": [
    "def map_values_to_na(col: str, values: list[any]):\n",
    "    training_data_prepared_df[col] = training_data_prepared_df[col].map(lambda x: np.nan if x in values else x)\n",
    "\n",
    "# RPAKREP_VEHICLE_HKEY\n",
    "# COMPANY\n",
    "training_data_prepared_df[\"COMPANY\"] = training_data_prepared_df[\"COMPANY\"].astype(\"Int64\").astype(\"object\")\n",
    "# OFFICE\n",
    "training_data_prepared_df[\"OFFICE\"] = training_data_prepared_df[\"OFFICE\"].astype(\"object\")\n",
    "# MANUFACTURER_SHORT\n",
    "training_data_prepared_df[\"MANUFACTURER_SHORT\"] = training_data_prepared_df[\"MANUFACTURER_SHORT\"].astype(\"object\")\n",
    "map_values_to_na(\"MANUFACTURER_SHORT\", [\"*\"])\n",
    "# VEHICLE_GROUP\n",
    "training_data_prepared_df[\"VEHICLE_GROUP\"] = training_data_prepared_df[\"VEHICLE_GROUP\"].astype(\"object\")\n",
    "map_values_to_na(\"VEHICLE_GROUP\", [\"*\"])\n",
    "# MILEAGE\n",
    "# COLOR\n",
    "training_data_prepared_df[\"COLOR\"] = training_data_prepared_df[\"COLOR\"].astype(\"object\")\n",
    "map_values_to_na(\"COLOR\", [\"-\"])\n",
    "# UPHOLSTERY\n",
    "training_data_prepared_df[\"UPHOLSTERY\"] = training_data_prepared_df[\"UPHOLSTERY\"].astype(\"object\")\n",
    "map_values_to_na(\"UPHOLSTERY\", [\"0\", \"1\", \"-, -\", \"#NAME?\"])\n",
    "# ENGINE_TYPE\n",
    "training_data_prepared_df[\"ENGINE_TYPE\"] = training_data_prepared_df[\"ENGINE_TYPE\"].astype(\"object\")\n",
    "map_values_to_na(\"ENGINE_TYPE\", [\"BITTE MOT-ID PFLEGEN\", \"-\", \"*\", \".\", \"#NAME?\"])\n",
    "# TRANSMISSION_TYPE\n",
    "training_data_prepared_df[\"TRANSMISSION_TYPE\"] = training_data_prepared_df[\"TRANSMISSION_TYPE\"].astype(\"object\")\n",
    "# TRANSMISSION_NAME\n",
    "training_data_prepared_df[\"TRANSMISSION_NAME\"] = training_data_prepared_df[\"TRANSMISSION_NAME\"].astype(\"object\")\n",
    "map_values_to_na(\"TRANSMISSION_NAME\", [\"Nicht definiert\"])\n",
    "# NUMBER_DOORS\n",
    "map_values_to_na(\"NUMBER_DOORS\", [0.0])\n",
    "# NUMBER_SEATS\n",
    "map_values_to_na(\"NUMBER_SEATS\", [-1.0, 0.0])\n",
    "# CURB_WEIGHT\n",
    "map_values_to_na(\"CURB_WEIGHT\", [0.0])\n",
    "# YEAR_CONSTRUCTION\n",
    "training_data_prepared_df[\"YEAR_CONSTRUCTION\"] = training_data_prepared_df[\"YEAR_CONSTRUCTION\"].map(lambda x: np.nan if x < 1900 or x > 2024 else x)\n",
    "# NUMBER_ENGINE_CYLINDER\n",
    "training_data_prepared_df[\"NUMBER_ENGINE_CYLINDER\"] = training_data_prepared_df.apply(lambda x: np.nan if x[\"NUMBER_ENGINE_CYLINDER\"] < 1 and x[\"FUEL_TYPE_NAME\"] == \"Elektro\" else x, axis=1)[\"NUMBER_ENGINE_CYLINDER\"]\n",
    "# ACCIDENT_VEHICLE\n",
    "training_data_prepared_df[\"ACCIDENT_VEHICLE\"] = training_data_prepared_df[\"ACCIDENT_VEHICLE\"].map({\"N\": False, 1: True}, na_action=\"ignore\")\n",
    "training_data_prepared_df[\"ACCIDENT_VEHICLE\"] = training_data_prepared_df[\"ACCIDENT_VEHICLE\"].astype(\"boolean\")\n",
    "# HORSEPOWER\n",
    "map_values_to_na(\"HORSEPOWER\", [0.0])\n",
    "# CCM\n",
    "map_values_to_na(\"CCM\", [0.0])\n",
    "# NUMBER_OWNERS\n",
    "# FINANCING_TYPE_NAME\n",
    "training_data_prepared_df[\"FINANCING_TYPE_NAME\"] = training_data_prepared_df[\"FINANCING_TYPE_NAME\"].astype(\"object\")\n",
    "map_values_to_na(\"FINANCING_TYPE_NAME\", [\"Nicht definiert\"])\n",
    "# FUEL_TYPE_NAME\n",
    "training_data_prepared_df[\"FUEL_TYPE_NAME\"] = training_data_prepared_df[\"FUEL_TYPE_NAME\"].astype(\"object\")\n",
    "# DRIVE_TYPE_NAME\n",
    "training_data_prepared_df[\"DRIVE_TYPE_NAME\"] = training_data_prepared_df[\"DRIVE_TYPE_NAME\"].astype(\"object\")\n",
    "map_values_to_na(\"DRIVE_TYPE_NAME\", [\"Nicht definiert\"])\n",
    "# VEHICLE_MODEL_ID_NAME\n",
    "training_data_prepared_df[\"VEHICLE_MODEL_ID_NAME\"] = training_data_prepared_df[\"VEHICLE_MODEL_ID_NAME\"].astype(\"object\")\n",
    "map_values_to_na(\"VEHICLE_MODEL_ID_NAME\", [\"Keine Zuteilung\"])\n",
    "# COMMISSION_TYPE_NAME\n",
    "training_data_prepared_df[\"COMMISSION_TYPE_NAME\"] = training_data_prepared_df[\"COMMISSION_TYPE_NAME\"].astype(\"object\")\n",
    "# PURCHASE_DATE\n",
    "# LAID_UP_TIME\n",
    "# CUSTOMER_TYPE\n",
    "training_data_prepared_df[\"CUSTOMER_TYPE\"] = training_data_prepared_df[\"CUSTOMER_TYPE\"].astype(\"object\")\n",
    "# CUSTOMER_SALE_GROUP2_NAME\n",
    "training_data_prepared_df[\"CUSTOMER_SALE_GROUP2_NAME\"] = training_data_prepared_df[\"CUSTOMER_SALE_GROUP2_NAME\"].astype(\"object\")\n",
    "# SCALED_CURRENT_VALUE\n",
    "map_values_to_na(\"SCALED_CURRENT_VALUE\", [training_data_prepared_df[\"SCALED_CURRENT_VALUE\"].value_counts().nlargest(1).keys()[0]])\n",
    "# SCALED_INVENTURAL_VALUE\n",
    "map_values_to_na(\"SCALED_INVENTURAL_VALUE\", [0.0])\n",
    "# SCALED_REPORT_VALUE\n",
    "# SCALED_VALUATION_PRICE\n",
    "# SCALED_GUIDE_PRICE\n",
    "map_values_to_na(\"SCALED_GUIDE_PRICE\", [training_data_prepared_df[\"SCALED_GUIDE_PRICE\"].value_counts().nlargest(1).keys()[0]])\n",
    "# SCALED_TOTAL_SALES_PRICE_BASIS\n",
    "# SCALED_TOTAL_SALE_PRICE"
   ]
  },
  {
   "cell_type": "markdown",
   "metadata": {},
   "source": [
    "### Remove certain rows and fill certain cells"
   ]
  },
  {
   "cell_type": "code",
   "execution_count": 219,
   "metadata": {},
   "outputs": [],
   "source": [
    "# ToDo\n",
    "# Leasing Cars?\n",
    "# 67 -> often seen as null count\n",
    "\n",
    "# Remove all rows where LAID_UP_TIME is na\n",
    "print(len(training_data_prepared_df))\n",
    "training_data_prepared_df.dropna(subset=[\"LAID_UP_TIME\"], inplace=True)\n",
    "print(len(training_data_prepared_df))"
   ]
  },
  {
   "cell_type": "code",
   "execution_count": 220,
   "metadata": {},
   "outputs": [],
   "source": [
    "training_data_prepared_df.isna().sum()"
   ]
  },
  {
   "cell_type": "code",
   "execution_count": 221,
   "metadata": {},
   "outputs": [],
   "source": [
    "training_data_prepared_df.isna().sum(axis=1).hist()"
   ]
  },
  {
   "cell_type": "code",
   "execution_count": 222,
   "metadata": {},
   "outputs": [],
   "source": [
    "print(len(training_data_prepared_df))\n",
    "training_data_prepared_df.dropna(thresh=24, inplace=True)\n",
    "print(len(training_data_prepared_df))\n",
    "print(training_data_prepared_df.isna().sum())"
   ]
  },
  {
   "cell_type": "code",
   "execution_count": 223,
   "metadata": {},
   "outputs": [],
   "source": [
    "training_data_fully_cleared_df = training_data_prepared_df.dropna().copy()\n",
    "\n",
    "# OFFICE: drop rows\n",
    "training_data_prepared_df.dropna(subset=[\"OFFICE\"], inplace=True)\n",
    "# MANUFACTURER_SHORT: drop rows\n",
    "training_data_prepared_df.dropna(subset=[\"MANUFACTURER_SHORT\"], inplace=True)\n",
    "# VEHICLE_GROUP: fille with new catetory\n",
    "training_data_prepared_df[\"VEHICLE_GROUP\"] = training_data_prepared_df[\"VEHICLE_GROUP\"].fillna(\"Unknown\")\n",
    "# COLOR: fille with new catetory\n",
    "training_data_prepared_df[\"COLOR\"] = training_data_prepared_df[\"COLOR\"].fillna(\"Unknown\")\n",
    "# UPHOLSTERY: fille with new catetory\n",
    "training_data_prepared_df[\"UPHOLSTERY\"] = training_data_prepared_df[\"UPHOLSTERY\"].fillna(\"Unknown\")\n",
    "# ENGINE_TYPE:\n",
    "# TRANSMISSION_TYPE:\n",
    "# TRANSMISSION_NAME:\n",
    "# NUMBER_DOORS:\n",
    "# NUMBER_SEATS:\n",
    "# CURB_WEIGHT:\n",
    "# YEAR_CONSTRUCTION:\n",
    "# NUMBER_ENGINE_CYLINDER:\n",
    "# ACCIDENT_VEHICLE: fill with False\n",
    "training_data_prepared_df[\"ACCIDENT_VEHICLE\"] = training_data_prepared_df[\"ACCIDENT_VEHICLE\"].fillna(False)\n",
    "# HORSEPOWER:\n",
    "# CCM:\n",
    "# FINANCING_TYPE_NAME: fille with new catetory\n",
    "training_data_prepared_df[\"FINANCING_TYPE_NAME\"] = training_data_prepared_df[\"FINANCING_TYPE_NAME\"].fillna(\"Unknown\")\n",
    "# DRIVE_TYPE_NAME:\n",
    "# VEHICLE_MODEL_ID_NAME:\n",
    "# PURCHASE_DATE:\n",
    "# CUSTOMER_TYPE:\n",
    "# CUSTOMER_SALE_GROUP2_NAME:\n",
    "\n",
    "training_data_fully_cleared_df.isna().sum()"
   ]
  },
  {
   "cell_type": "markdown",
   "metadata": {},
   "source": [
    "### Add derived features to the dataframe"
   ]
  },
  {
   "cell_type": "code",
   "execution_count": 224,
   "metadata": {},
   "outputs": [],
   "source": [
    "# OFFICE_MAIN_BRAND = MANUFACTURER_SHORT\n",
    "# MILEAGE - MILAGE_SALES (PURCHASE_MILAGE) (MILAGE_SALE)\n",
    "# milage_diff = training_data_fully_cleared_df[\"MILAGE_SALES\"] - training_data_fully_cleared_df[\"MILEAGE\"]\n",
    "# training_data_fully_cleared_df[\"MILEAGE_DIFF\"] = milage_diff"
   ]
  },
  {
   "cell_type": "markdown",
   "metadata": {},
   "source": [
    "### Investigate features"
   ]
  },
  {
   "cell_type": "code",
   "execution_count": 225,
   "metadata": {},
   "outputs": [],
   "source": [
    "corr_matrix = training_data_fully_cleared_df.select_dtypes(include=[\"number\"]).corr()\n",
    "corr_matrix[\"LAID_UP_TIME\"].sort_values(ascending=False)"
   ]
  },
  {
   "cell_type": "code",
   "execution_count": 226,
   "metadata": {},
   "outputs": [],
   "source": [
    "scatter_matrix(training_data_fully_cleared_df.select_dtypes(include=[\"number\"]), figsize=[60, 60])\n",
    "plt.show()"
   ]
  },
  {
   "cell_type": "code",
   "execution_count": 227,
   "metadata": {},
   "outputs": [],
   "source": [
    "training_data_fully_cleared_df[\"OFFICE\"].value_counts().plot(kind='bar', figsize=(15, 5))\n",
    "plt.show()"
   ]
  },
  {
   "cell_type": "code",
   "execution_count": 231,
   "metadata": {},
   "outputs": [],
   "source": [
    "cat_features = training_data_fully_cleared_df.select_dtypes(include=[\"object\"]).columns\n",
    "plt.figure(figsize=(15, 300))\n",
    "for i, feature in enumerate(cat_features):\n",
    "    if len(training_data_fully_cleared_df[feature].value_counts()) <= 50:\n",
    "        plt.subplot(len(cat_features), 1, i + 1)\n",
    "        plt.scatter(training_data_fully_cleared_df[feature].astype('str'), training_data_fully_cleared_df[\"LAID_UP_TIME\"], alpha=0.25, linewidths=0)\n",
    "        plt.xticks(rotation=90)\n",
    "        plt.xlabel(feature)\n",
    "        plt.ylabel(\"Laid Up Time\")\n",
    "plt.show()"
   ]
  },
  {
   "cell_type": "code",
   "execution_count": 229,
   "metadata": {},
   "outputs": [],
   "source": [
    "corr_matrix = training_data_fully_cleared_df.select_dtypes(include=[\"number\"]).corr(method=\"pearson\")\n",
    "plt.figure(figsize=(15, 15))\n",
    "sns.heatmap(corr_matrix, annot=True, cmap=\"YlGnBu\", fmt=\".2f\")\n",
    "plt.title(\"Correlation Matrix\")\n",
    "plt.show()\n"
   ]
  }
 ],
 "metadata": {
  "colab": {
   "provenance": []
  },
  "kernelspec": {
   "display_name": "Python 3",
   "name": "python3"
  },
  "language_info": {
   "codemirror_mode": {
    "name": "ipython",
    "version": 3
   },
   "file_extension": ".py",
   "mimetype": "text/x-python",
   "name": "python",
   "nbconvert_exporter": "python",
   "pygments_lexer": "ipython3",
   "version": "3.13.0"
  }
 },
 "nbformat": 4,
 "nbformat_minor": 0
}
