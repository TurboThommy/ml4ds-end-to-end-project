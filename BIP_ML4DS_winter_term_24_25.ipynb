{
  "nbformat": 4,
  "nbformat_minor": 0,
  "metadata": {
    "colab": {
      "provenance": [],
      "authorship_tag": "ABX9TyP7hx+RRRa8B7vJBqkcPfPi"
    },
    "kernelspec": {
      "name": "python3",
      "display_name": "Python 3"
    },
    "language_info": {
      "name": "python"
    }
  },
  "cells": [
    {
      "cell_type": "markdown",
      "source": [
        "# Ch. 1 - Setup"
      ],
      "metadata": {
        "id": "aL5VxhUgN_Cd"
      }
    },
    {
      "cell_type": "markdown",
      "source": [
        "First we import the required dependencies."
      ],
      "metadata": {
        "id": "0EQAtMAjODvX"
      }
    },
    {
      "cell_type": "code",
      "execution_count": null,
      "metadata": {
        "id": "5tWJbNzzN1FH"
      },
      "outputs": [],
      "source": [
        "# Python ≥3.5 is required\n",
        "import sys\n",
        "assert sys.version_info >= (3, 5)\n",
        "\n",
        "# common imports\n",
        "import numpy as np\n",
        "import pandas as pd\n",
        "\n",
        "# To plot pretty figures\n",
        "%matplotlib inline\n",
        "import matplotlib as mpl\n",
        "import matplotlib.pyplot as plt"
      ]
    }
  ]
}